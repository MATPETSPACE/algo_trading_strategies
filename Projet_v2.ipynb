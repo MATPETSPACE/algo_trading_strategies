{
  "nbformat": 4,
  "nbformat_minor": 0,
  "metadata": {
    "colab": {
      "name": "Projet v2.ipynb",
      "provenance": [],
      "collapsed_sections": [],
      "authorship_tag": "ABX9TyPvNVfCoLNZTQTTNIQProdq",
      "include_colab_link": true
    },
    "kernelspec": {
      "name": "python3",
      "display_name": "Python 3"
    }
  },
  "cells": [
    {
      "cell_type": "markdown",
      "metadata": {
        "id": "view-in-github",
        "colab_type": "text"
      },
      "source": [
        "<a href=\"https://colab.research.google.com/github/MATPETSPACE/algo_trading_strategies/blob/master/Projet_v2.ipynb\" target=\"_parent\"><img src=\"https://colab.research.google.com/assets/colab-badge.svg\" alt=\"Open In Colab\"/></a>"
      ]
    },
    {
      "cell_type": "markdown",
      "metadata": {
        "id": "BCg3mr5X-Bc8"
      },
      "source": [
        "PROJET SANS ANALYSE DE SENTIMENTS"
      ]
    },
    {
      "cell_type": "code",
      "metadata": {
        "id": "npNWv1dFGMI3"
      },
      "source": [
        "#Librairies\n",
        "import os\n",
        "import pandas as pd\n",
        "import tweepy as tw\n",
        "from pandas_datareader import data\n",
        "import matplotlib.pyplot as plt\n",
        "import numpy as np\n",
        "import datetime\n",
        "import plotly\n",
        "from plotly.graph_objs import *"
      ],
      "execution_count": 1,
      "outputs": []
    },
    {
      "cell_type": "code",
      "metadata": {
        "id": "wwvGXhQvwSkl"
      },
      "source": [
        "ticker = 'BTC-USD'\n",
        "start = '2017-10-01'\n",
        "end = '2021-01-01'\n",
        "short_lookback_period = 40\n",
        "long_lookback_period = 100\n",
        "initial_capital = 10000\n",
        "nbre_shares = 100"
      ],
      "execution_count": 2,
      "outputs": []
    },
    {
      "cell_type": "code",
      "metadata": {
        "id": "w1fj0O4q5wnd"
      },
      "source": [
        "def DataDownloader( ticker, start, end):\n",
        "    '''\n",
        "    This function downloads financial data for a given company (ticker), in a daily basis from start to end.\n",
        "    Inputs: ticker, start, end\n",
        "    Output: the stock price\n",
        "    '''\n",
        "    stock_prices = data.get_data_yahoo( ticker, start, end)\n",
        "    return stock_prices"
      ],
      "execution_count": 3,
      "outputs": []
    },
    {
      "cell_type": "code",
      "metadata": {
        "id": "378jef94NIdu"
      },
      "source": [
        "def Strategy(short_lookback_period,long_lookback_period): \n",
        "    '''\n",
        "    This function creates the trading strategy.\n",
        "    Inputs: short_lookback_period in days\n",
        "            long_lookback_period in days\n",
        "    Output: 2 dataframes\n",
        "    '''\n",
        "    ticker_data = DataDownloader(ticker, start, end)\n",
        "\n",
        "    # Prepare a signal dataframe with Date same as from ticker data\n",
        "    signals = pd.DataFrame(index=ticker_data.index)\n",
        "    signals['signal'] = 0.0\n",
        "\n",
        "    # Short moving average \n",
        "    signals['short_mavg'] = ticker_data['Close'].rolling(window=short_lookback_period, min_periods=1, center=False).mean()\n",
        "\n",
        "    # Long moving average\n",
        "    signals['long_mavg'] = ticker_data['Close'].rolling(window=long_lookback_period, min_periods = 1, center=False).mean()\n",
        "\n",
        "    # Identify cross overs : when short moving avg is greater than long moving average\n",
        "    signals['signal'][short_lookback_period:] = np.where(signals['short_mavg'][short_lookback_period:] > signals['long_mavg'][short_lookback_period:], 1.0, 0.0) # Value 1 if True, Value 0 if False\n",
        "\n",
        "    signals['position'] = signals['signal'].diff()\n",
        "\n",
        "    # Where position is 1\n",
        "    display(signals[signals.position == 1.0].head())\n",
        "            \n",
        "    # Where position is -1\n",
        "    display(signals[signals.position == -1].head())"
      ],
      "execution_count": 4,
      "outputs": []
    },
    {
      "cell_type": "code",
      "metadata": {
        "colab": {
          "base_uri": "https://localhost:8080/",
          "height": 438
        },
        "id": "YSAv70lVSqxy",
        "outputId": "08693e24-976d-4d89-b1ca-ebe79eba1e2f"
      },
      "source": [
        "Strategy(40,100)"
      ],
      "execution_count": 5,
      "outputs": [
        {
          "output_type": "display_data",
          "data": {
            "text/html": [
              "<div>\n",
              "<style scoped>\n",
              "    .dataframe tbody tr th:only-of-type {\n",
              "        vertical-align: middle;\n",
              "    }\n",
              "\n",
              "    .dataframe tbody tr th {\n",
              "        vertical-align: top;\n",
              "    }\n",
              "\n",
              "    .dataframe thead th {\n",
              "        text-align: right;\n",
              "    }\n",
              "</style>\n",
              "<table border=\"1\" class=\"dataframe\">\n",
              "  <thead>\n",
              "    <tr style=\"text-align: right;\">\n",
              "      <th></th>\n",
              "      <th>signal</th>\n",
              "      <th>short_mavg</th>\n",
              "      <th>long_mavg</th>\n",
              "      <th>position</th>\n",
              "    </tr>\n",
              "    <tr>\n",
              "      <th>Date</th>\n",
              "      <th></th>\n",
              "      <th></th>\n",
              "      <th></th>\n",
              "      <th></th>\n",
              "    </tr>\n",
              "  </thead>\n",
              "  <tbody>\n",
              "    <tr>\n",
              "      <th>2017-11-10</th>\n",
              "      <td>1.0</td>\n",
              "      <td>5824.698987</td>\n",
              "      <td>5790.041456</td>\n",
              "      <td>1.0</td>\n",
              "    </tr>\n",
              "    <tr>\n",
              "      <th>2018-08-21</th>\n",
              "      <td>1.0</td>\n",
              "      <td>7061.695959</td>\n",
              "      <td>7045.812974</td>\n",
              "      <td>1.0</td>\n",
              "    </tr>\n",
              "    <tr>\n",
              "      <th>2019-03-09</th>\n",
              "      <td>1.0</td>\n",
              "      <td>3730.861841</td>\n",
              "      <td>3728.499934</td>\n",
              "      <td>1.0</td>\n",
              "    </tr>\n",
              "    <tr>\n",
              "      <th>2020-01-30</th>\n",
              "      <td>1.0</td>\n",
              "      <td>8098.451331</td>\n",
              "      <td>8072.831279</td>\n",
              "      <td>1.0</td>\n",
              "    </tr>\n",
              "    <tr>\n",
              "      <th>2020-05-15</th>\n",
              "      <td>1.0</td>\n",
              "      <td>8076.017847</td>\n",
              "      <td>8023.004531</td>\n",
              "      <td>1.0</td>\n",
              "    </tr>\n",
              "  </tbody>\n",
              "</table>\n",
              "</div>"
            ],
            "text/plain": [
              "            signal   short_mavg    long_mavg  position\n",
              "Date                                                  \n",
              "2017-11-10     1.0  5824.698987  5790.041456       1.0\n",
              "2018-08-21     1.0  7061.695959  7045.812974       1.0\n",
              "2019-03-09     1.0  3730.861841  3728.499934       1.0\n",
              "2020-01-30     1.0  8098.451331  8072.831279       1.0\n",
              "2020-05-15     1.0  8076.017847  8023.004531       1.0"
            ]
          },
          "metadata": {
            "tags": []
          }
        },
        {
          "output_type": "display_data",
          "data": {
            "text/html": [
              "<div>\n",
              "<style scoped>\n",
              "    .dataframe tbody tr th:only-of-type {\n",
              "        vertical-align: middle;\n",
              "    }\n",
              "\n",
              "    .dataframe tbody tr th {\n",
              "        vertical-align: top;\n",
              "    }\n",
              "\n",
              "    .dataframe thead th {\n",
              "        text-align: right;\n",
              "    }\n",
              "</style>\n",
              "<table border=\"1\" class=\"dataframe\">\n",
              "  <thead>\n",
              "    <tr style=\"text-align: right;\">\n",
              "      <th></th>\n",
              "      <th>signal</th>\n",
              "      <th>short_mavg</th>\n",
              "      <th>long_mavg</th>\n",
              "      <th>position</th>\n",
              "    </tr>\n",
              "    <tr>\n",
              "      <th>Date</th>\n",
              "      <th></th>\n",
              "      <th></th>\n",
              "      <th></th>\n",
              "      <th></th>\n",
              "    </tr>\n",
              "  </thead>\n",
              "  <tbody>\n",
              "    <tr>\n",
              "      <th>2018-02-11</th>\n",
              "      <td>0.0</td>\n",
              "      <td>11713.780542</td>\n",
              "      <td>11846.533413</td>\n",
              "      <td>-1.0</td>\n",
              "    </tr>\n",
              "    <tr>\n",
              "      <th>2018-09-04</th>\n",
              "      <td>0.0</td>\n",
              "      <td>6898.901978</td>\n",
              "      <td>6912.999082</td>\n",
              "      <td>-1.0</td>\n",
              "    </tr>\n",
              "    <tr>\n",
              "      <th>2019-09-16</th>\n",
              "      <td>0.0</td>\n",
              "      <td>10396.817554</td>\n",
              "      <td>10464.449297</td>\n",
              "      <td>-1.0</td>\n",
              "    </tr>\n",
              "    <tr>\n",
              "      <th>2020-03-22</th>\n",
              "      <td>0.0</td>\n",
              "      <td>8196.094128</td>\n",
              "      <td>8242.694751</td>\n",
              "      <td>-1.0</td>\n",
              "    </tr>\n",
              "    <tr>\n",
              "      <th>2020-10-13</th>\n",
              "      <td>0.0</td>\n",
              "      <td>10685.782959</td>\n",
              "      <td>10704.738691</td>\n",
              "      <td>-1.0</td>\n",
              "    </tr>\n",
              "  </tbody>\n",
              "</table>\n",
              "</div>"
            ],
            "text/plain": [
              "            signal    short_mavg     long_mavg  position\n",
              "Date                                                    \n",
              "2018-02-11     0.0  11713.780542  11846.533413      -1.0\n",
              "2018-09-04     0.0   6898.901978   6912.999082      -1.0\n",
              "2019-09-16     0.0  10396.817554  10464.449297      -1.0\n",
              "2020-03-22     0.0   8196.094128   8242.694751      -1.0\n",
              "2020-10-13     0.0  10685.782959  10704.738691      -1.0"
            ]
          },
          "metadata": {
            "tags": []
          }
        }
      ]
    },
    {
      "cell_type": "code",
      "metadata": {
        "id": "AmFaIXs1w7mn"
      },
      "source": [
        "ticker_data = DataDownloader(ticker, start, end)"
      ],
      "execution_count": 6,
      "outputs": []
    },
    {
      "cell_type": "code",
      "metadata": {
        "id": "i6l6SUOwCjaB"
      },
      "source": [
        "def PlotPy(ticker, start, end):\n",
        "    '''\n",
        "    This is a function made for plotting purposes.\n",
        "    Inputs: ticker, start, end\n",
        "    Output: a plot\n",
        "    '''\n",
        "    price = DataDownloader(ticker, start, end)\n",
        "    close = price['Open']\n",
        "\n",
        "    fig = plt.figure()\n",
        "\n",
        "    ax1 = fig.add_subplot(111, ylabel = 'Price')\n",
        "\n",
        "    # Plot the closing prices\n",
        "    ticker_data['Close'].plot(ax=ax1, color = 'b', lw=2)\n",
        "\n",
        "    # Plot the short and long moving average\n",
        "    signals[['short_mavg','long_mavg']].plot(ax=ax1, lw=2)\n",
        "\n",
        "    # Plot the buy signal\n",
        "    ax1.plot(signals.loc[signals.position == 1.0].index, signals.short_mavg[signals.position == 1.0], marker = '^', markersize = 10, color='g', lw=0)\n",
        "\n",
        "    # Plot the sell signal\n",
        "    ax1.plot(signals.loc[signals.position == -1.0].index,signals.short_mavg[signals.position == -1.0], marker = 'v', markersize = 10, color='r', lw=0)\n",
        "\n",
        "    ax1.legend(loc = 2)\n",
        "    ax1.grid(axis = \"both\", linestyle = '--')\n",
        "\n",
        "    plt.show()"
      ],
      "execution_count": 7,
      "outputs": []
    },
    {
      "cell_type": "code",
      "metadata": {
        "colab": {
          "base_uri": "https://localhost:8080/",
          "height": 570
        },
        "id": "GtIdxtKDDZgW",
        "outputId": "6940bea1-36cd-45a6-8ff6-55648adcfd5a"
      },
      "source": [
        "#Example\n",
        "PlotPy(ticker = 'BTC-USD', start = \"2019-10-01\", end = \"2020-10-01\")"
      ],
      "execution_count": 8,
      "outputs": [
        {
          "output_type": "error",
          "ename": "NameError",
          "evalue": "ignored",
          "traceback": [
            "\u001b[0;31m---------------------------------------------------------------------------\u001b[0m",
            "\u001b[0;31mNameError\u001b[0m                                 Traceback (most recent call last)",
            "\u001b[0;32m<ipython-input-8-33bfc08c88c1>\u001b[0m in \u001b[0;36m<module>\u001b[0;34m()\u001b[0m\n\u001b[1;32m      1\u001b[0m \u001b[0;31m#Example\u001b[0m\u001b[0;34m\u001b[0m\u001b[0;34m\u001b[0m\u001b[0;34m\u001b[0m\u001b[0m\n\u001b[0;32m----> 2\u001b[0;31m \u001b[0mPlotPy\u001b[0m\u001b[0;34m(\u001b[0m\u001b[0mticker\u001b[0m \u001b[0;34m=\u001b[0m \u001b[0;34m'BTC-USD'\u001b[0m\u001b[0;34m,\u001b[0m \u001b[0mstart\u001b[0m \u001b[0;34m=\u001b[0m \u001b[0;34m\"2019-10-01\"\u001b[0m\u001b[0;34m,\u001b[0m \u001b[0mend\u001b[0m \u001b[0;34m=\u001b[0m \u001b[0;34m\"2020-10-01\"\u001b[0m\u001b[0;34m)\u001b[0m\u001b[0;34m\u001b[0m\u001b[0;34m\u001b[0m\u001b[0m\n\u001b[0m",
            "\u001b[0;32m<ipython-input-7-12ea4b971475>\u001b[0m in \u001b[0;36mPlotPy\u001b[0;34m(ticker, start, end)\u001b[0m\n\u001b[1;32m     16\u001b[0m \u001b[0;34m\u001b[0m\u001b[0m\n\u001b[1;32m     17\u001b[0m     \u001b[0;31m# Plot the short and long moving average\u001b[0m\u001b[0;34m\u001b[0m\u001b[0;34m\u001b[0m\u001b[0;34m\u001b[0m\u001b[0m\n\u001b[0;32m---> 18\u001b[0;31m     \u001b[0msignals\u001b[0m\u001b[0;34m[\u001b[0m\u001b[0;34m[\u001b[0m\u001b[0;34m'short_mavg'\u001b[0m\u001b[0;34m,\u001b[0m\u001b[0;34m'long_mavg'\u001b[0m\u001b[0;34m]\u001b[0m\u001b[0;34m]\u001b[0m\u001b[0;34m.\u001b[0m\u001b[0mplot\u001b[0m\u001b[0;34m(\u001b[0m\u001b[0max\u001b[0m\u001b[0;34m=\u001b[0m\u001b[0max1\u001b[0m\u001b[0;34m,\u001b[0m \u001b[0mlw\u001b[0m\u001b[0;34m=\u001b[0m\u001b[0;36m2\u001b[0m\u001b[0;34m)\u001b[0m\u001b[0;34m\u001b[0m\u001b[0;34m\u001b[0m\u001b[0m\n\u001b[0m\u001b[1;32m     19\u001b[0m \u001b[0;34m\u001b[0m\u001b[0m\n\u001b[1;32m     20\u001b[0m     \u001b[0;31m# Plot the buy signal\u001b[0m\u001b[0;34m\u001b[0m\u001b[0;34m\u001b[0m\u001b[0;34m\u001b[0m\u001b[0m\n",
            "\u001b[0;31mNameError\u001b[0m: name 'signals' is not defined"
          ]
        },
        {
          "output_type": "display_data",
          "data": {
            "image/png": "[encoded data removed]",
            "text/plain": [
              "<Figure size 432x288 with 1 Axes>"
            ]
          },
          "metadata": {
            "tags": [],
            "needs_background": "light"
          }
        }
      ]
    },
    {
      "cell_type": "code",
      "metadata": {
        "id": "iqngszQA6y7h"
      },
      "source": [
        "def Backtester(initial_capital, nbre_shares):\n",
        "    '''\n",
        "    This is a function made for plotting purposes and results of backest\n",
        "    Inputs: initial_capital, nbre_shares to buy\n",
        "    Output: a plot + results of backtest in tab\n",
        "    '''\n",
        "\n",
        "    # Positions Dataframe\n",
        "    positions = pd.DataFrame(index = signals.index)\n",
        "\n",
        "    # Buy nbre_shares \n",
        "    positions['BTC-USD'] = nbre_shares * signals['signal']\n",
        "\n",
        "    # Initialize the portfolio with values of shares owned\n",
        "    portfolio = positions.multiply(ticker_data['Close'], axis=0)\n",
        "\n",
        "    # Stores the difference in shares owned\n",
        "    pos_diff = positions.diff()\n",
        "\n",
        "    # Add holdings to portfolio\n",
        "    portfolio['holdings'] = (positions.multiply(apple_ticker_data['Close'], axis=0)).sum(axis=1)\n",
        "\n",
        "    # Add cash to portfolio\n",
        "    portfolio['cash'] = initial_capital - (pos_diff.multiply(apple_ticker_data['Close'], axis=0)).sum(axis=1).cumsum()\n",
        "\n",
        "    # Total portfolio worth\n",
        "    portfolio['total'] = portfolio['cash'] + portfolio['holdings']\n",
        "\n",
        "    # portfolio returns\n",
        "    portfolio['returns'] = portfolio['total'].pct_change()\n",
        "    print(portfolio.tail())\n",
        "\n",
        "    print('-------------------------------------------------------------------------------')\n",
        "\n",
        "    #Visualization of the performance of the backtested startegy: \n",
        "        \n",
        "    fig = plt.figure()\n",
        "\n",
        "    ax1 = fig.add_subplot(111, ylabel = \"Porfolio value in $\")\n",
        "\n",
        "    portfolio['total'].plot(ax = ax1, color = 'b', lw=2.0)\n",
        "\n",
        "    # Plot the portfolio on buy signal\n",
        "    ax1.plot(portfolio.loc[signals.position == 1.0].index,portfolio.total[signals.position == 1.0], marker = '^', markersize = 10, color='g', lw=0)\n",
        "\n",
        "    # Plot the portfolio on sell signal\n",
        "    ax1.plot(portfolio.loc[signals.position == -1.0].index,portfolio.total[signals.position == -1.0], marker = 'v', markersize = 10, color='r', lw=0)"
      ],
      "execution_count": null,
      "outputs": []
    },
    {
      "cell_type": "code",
      "metadata": {
        "colab": {
          "base_uri": "https://localhost:8080/",
          "height": 654
        },
        "id": "X71bxH-fHZjY",
        "outputId": "7339a6b8-75d6-4179-8220-b870b9bca5ed"
      },
      "source": [
        "Backtester(10000,100)"
      ],
      "execution_count": null,
      "outputs": [
        {
          "output_type": "error",
          "ename": "KeyError",
          "evalue": "ignored",
          "traceback": [
            "\u001b[0;31m---------------------------------------------------------------------------\u001b[0m",
            "\u001b[0;31mKeyError\u001b[0m                                  Traceback (most recent call last)",
            "\u001b[0;32m/usr/local/lib/python3.7/dist-packages/pandas/core/indexes/base.py\u001b[0m in \u001b[0;36mget_loc\u001b[0;34m(self, key, method, tolerance)\u001b[0m\n\u001b[1;32m   2897\u001b[0m             \u001b[0;32mtry\u001b[0m\u001b[0;34m:\u001b[0m\u001b[0;34m\u001b[0m\u001b[0;34m\u001b[0m\u001b[0m\n\u001b[0;32m-> 2898\u001b[0;31m                 \u001b[0;32mreturn\u001b[0m \u001b[0mself\u001b[0m\u001b[0;34m.\u001b[0m\u001b[0m_engine\u001b[0m\u001b[0;34m.\u001b[0m\u001b[0mget_loc\u001b[0m\u001b[0;34m(\u001b[0m\u001b[0mcasted_key\u001b[0m\u001b[0;34m)\u001b[0m\u001b[0;34m\u001b[0m\u001b[0;34m\u001b[0m\u001b[0m\n\u001b[0m\u001b[1;32m   2899\u001b[0m             \u001b[0;32mexcept\u001b[0m \u001b[0mKeyError\u001b[0m \u001b[0;32mas\u001b[0m \u001b[0merr\u001b[0m\u001b[0;34m:\u001b[0m\u001b[0;34m\u001b[0m\u001b[0;34m\u001b[0m\u001b[0m\n",
            "\u001b[0;32mpandas/_libs/index.pyx\u001b[0m in \u001b[0;36mpandas._libs.index.IndexEngine.get_loc\u001b[0;34m()\u001b[0m\n",
            "\u001b[0;32mpandas/_libs/index.pyx\u001b[0m in \u001b[0;36mpandas._libs.index.IndexEngine.get_loc\u001b[0;34m()\u001b[0m\n",
            "\u001b[0;32mpandas/_libs/hashtable_class_helper.pxi\u001b[0m in \u001b[0;36mpandas._libs.hashtable.PyObjectHashTable.get_item\u001b[0;34m()\u001b[0m\n",
            "\u001b[0;32mpandas/_libs/hashtable_class_helper.pxi\u001b[0m in \u001b[0;36mpandas._libs.hashtable.PyObjectHashTable.get_item\u001b[0;34m()\u001b[0m\n",
            "\u001b[0;31mKeyError\u001b[0m: 'signal'",
            "\nThe above exception was the direct cause of the following exception:\n",
            "\u001b[0;31mKeyError\u001b[0m                                  Traceback (most recent call last)",
            "\u001b[0;32m<ipython-input-93-6cbcaf558528>\u001b[0m in \u001b[0;36m<module>\u001b[0;34m()\u001b[0m\n\u001b[0;32m----> 1\u001b[0;31m \u001b[0mBacktester\u001b[0m\u001b[0;34m(\u001b[0m\u001b[0;36m10000\u001b[0m\u001b[0;34m,\u001b[0m\u001b[0;36m100\u001b[0m\u001b[0;34m)\u001b[0m\u001b[0;34m\u001b[0m\u001b[0;34m\u001b[0m\u001b[0m\n\u001b[0m",
            "\u001b[0;32m<ipython-input-92-69b513cf26a9>\u001b[0m in \u001b[0;36mBacktester\u001b[0;34m(initial_capital, nbre_shares)\u001b[0m\n\u001b[1;32m     10\u001b[0m \u001b[0;34m\u001b[0m\u001b[0m\n\u001b[1;32m     11\u001b[0m     \u001b[0;31m# Buy nbre_shares\u001b[0m\u001b[0;34m\u001b[0m\u001b[0;34m\u001b[0m\u001b[0;34m\u001b[0m\u001b[0m\n\u001b[0;32m---> 12\u001b[0;31m     \u001b[0mpositions\u001b[0m\u001b[0;34m[\u001b[0m\u001b[0;34m'BTC-USD'\u001b[0m\u001b[0;34m]\u001b[0m \u001b[0;34m=\u001b[0m \u001b[0mnbre_shares\u001b[0m \u001b[0;34m*\u001b[0m \u001b[0msignals\u001b[0m\u001b[0;34m[\u001b[0m\u001b[0;34m'signal'\u001b[0m\u001b[0;34m]\u001b[0m\u001b[0;34m\u001b[0m\u001b[0;34m\u001b[0m\u001b[0m\n\u001b[0m\u001b[1;32m     13\u001b[0m \u001b[0;34m\u001b[0m\u001b[0m\n\u001b[1;32m     14\u001b[0m     \u001b[0;31m# Initialize the portfolio with values of shares owned\u001b[0m\u001b[0;34m\u001b[0m\u001b[0;34m\u001b[0m\u001b[0;34m\u001b[0m\u001b[0m\n",
            "\u001b[0;32m/usr/local/lib/python3.7/dist-packages/pandas/core/frame.py\u001b[0m in \u001b[0;36m__getitem__\u001b[0;34m(self, key)\u001b[0m\n\u001b[1;32m   2904\u001b[0m             \u001b[0;32mif\u001b[0m \u001b[0mself\u001b[0m\u001b[0;34m.\u001b[0m\u001b[0mcolumns\u001b[0m\u001b[0;34m.\u001b[0m\u001b[0mnlevels\u001b[0m \u001b[0;34m>\u001b[0m \u001b[0;36m1\u001b[0m\u001b[0;34m:\u001b[0m\u001b[0;34m\u001b[0m\u001b[0;34m\u001b[0m\u001b[0m\n\u001b[1;32m   2905\u001b[0m                 \u001b[0;32mreturn\u001b[0m \u001b[0mself\u001b[0m\u001b[0;34m.\u001b[0m\u001b[0m_getitem_multilevel\u001b[0m\u001b[0;34m(\u001b[0m\u001b[0mkey\u001b[0m\u001b[0;34m)\u001b[0m\u001b[0;34m\u001b[0m\u001b[0;34m\u001b[0m\u001b[0m\n\u001b[0;32m-> 2906\u001b[0;31m             \u001b[0mindexer\u001b[0m \u001b[0;34m=\u001b[0m \u001b[0mself\u001b[0m\u001b[0;34m.\u001b[0m\u001b[0mcolumns\u001b[0m\u001b[0;34m.\u001b[0m\u001b[0mget_loc\u001b[0m\u001b[0;34m(\u001b[0m\u001b[0mkey\u001b[0m\u001b[0;34m)\u001b[0m\u001b[0;34m\u001b[0m\u001b[0;34m\u001b[0m\u001b[0m\n\u001b[0m\u001b[1;32m   2907\u001b[0m             \u001b[0;32mif\u001b[0m \u001b[0mis_integer\u001b[0m\u001b[0;34m(\u001b[0m\u001b[0mindexer\u001b[0m\u001b[0;34m)\u001b[0m\u001b[0;34m:\u001b[0m\u001b[0;34m\u001b[0m\u001b[0;34m\u001b[0m\u001b[0m\n\u001b[1;32m   2908\u001b[0m                 \u001b[0mindexer\u001b[0m \u001b[0;34m=\u001b[0m \u001b[0;34m[\u001b[0m\u001b[0mindexer\u001b[0m\u001b[0;34m]\u001b[0m\u001b[0;34m\u001b[0m\u001b[0;34m\u001b[0m\u001b[0m\n",
            "\u001b[0;32m/usr/local/lib/python3.7/dist-packages/pandas/core/indexes/base.py\u001b[0m in \u001b[0;36mget_loc\u001b[0;34m(self, key, method, tolerance)\u001b[0m\n\u001b[1;32m   2898\u001b[0m                 \u001b[0;32mreturn\u001b[0m \u001b[0mself\u001b[0m\u001b[0;34m.\u001b[0m\u001b[0m_engine\u001b[0m\u001b[0;34m.\u001b[0m\u001b[0mget_loc\u001b[0m\u001b[0;34m(\u001b[0m\u001b[0mcasted_key\u001b[0m\u001b[0;34m)\u001b[0m\u001b[0;34m\u001b[0m\u001b[0;34m\u001b[0m\u001b[0m\n\u001b[1;32m   2899\u001b[0m             \u001b[0;32mexcept\u001b[0m \u001b[0mKeyError\u001b[0m \u001b[0;32mas\u001b[0m \u001b[0merr\u001b[0m\u001b[0;34m:\u001b[0m\u001b[0;34m\u001b[0m\u001b[0;34m\u001b[0m\u001b[0m\n\u001b[0;32m-> 2900\u001b[0;31m                 \u001b[0;32mraise\u001b[0m \u001b[0mKeyError\u001b[0m\u001b[0;34m(\u001b[0m\u001b[0mkey\u001b[0m\u001b[0;34m)\u001b[0m \u001b[0;32mfrom\u001b[0m \u001b[0merr\u001b[0m\u001b[0;34m\u001b[0m\u001b[0;34m\u001b[0m\u001b[0m\n\u001b[0m\u001b[1;32m   2901\u001b[0m \u001b[0;34m\u001b[0m\u001b[0m\n\u001b[1;32m   2902\u001b[0m         \u001b[0;32mif\u001b[0m \u001b[0mtolerance\u001b[0m \u001b[0;32mis\u001b[0m \u001b[0;32mnot\u001b[0m \u001b[0;32mNone\u001b[0m\u001b[0;34m:\u001b[0m\u001b[0;34m\u001b[0m\u001b[0;34m\u001b[0m\u001b[0m\n",
            "\u001b[0;31mKeyError\u001b[0m: 'signal'"
          ]
        }
      ]
    },
    {
      "cell_type": "code",
      "metadata": {
        "id": "fssECH4q79MK"
      },
      "source": [
        "def Eval_perf(returns):\n",
        "    '''\n",
        "    This is a function made for evaluation of performance purpose.\n",
        "    Inputs: retruns : portfolio['returns']\n",
        "    Output: results of sharpe ratio and CAGR.\n",
        "    '''\n",
        "\n",
        "    # annualized sharpe ratio\n",
        "    sharpe_ratio = np.sqrt(252)*(returns.mean()/returns.std())\n",
        "\n",
        "    print('The Sharpe Ratio is : ' + str(sharpe_ratio))\n",
        "\n",
        "    print('-----------------------------------------------------')\n",
        "    #calculus of CAGR\n",
        "    days = (ticker_data.index[-1]-ticker_data.index[0]).days\n",
        "    cagr = ticker_data['Close'][-1] - ticker_data['Close'][1]\n",
        "    cagr **= (365.0/days)\n",
        "    cagr -= 1\n",
        "    print ('The Compound Annualized Growth Rate is : ' + str(cagr))"
      ],
      "execution_count": null,
      "outputs": []
    },
    {
      "cell_type": "code",
      "metadata": {
        "colab": {
          "base_uri": "https://localhost:8080/",
          "height": 167
        },
        "id": "yD4BqOINIktO",
        "outputId": "d636224d-94a8-4274-b63c-ab1058e6b38b"
      },
      "source": [
        "Eval_perf(portfolio['returns'])"
      ],
      "execution_count": null,
      "outputs": [
        {
          "output_type": "error",
          "ename": "NameError",
          "evalue": "ignored",
          "traceback": [
            "\u001b[0;31m---------------------------------------------------------------------------\u001b[0m",
            "\u001b[0;31mNameError\u001b[0m                                 Traceback (most recent call last)",
            "\u001b[0;32m<ipython-input-95-42bde46ee364>\u001b[0m in \u001b[0;36m<module>\u001b[0;34m()\u001b[0m\n\u001b[0;32m----> 1\u001b[0;31m \u001b[0mEval_perf\u001b[0m\u001b[0;34m(\u001b[0m\u001b[0mportfolio\u001b[0m\u001b[0;34m[\u001b[0m\u001b[0;34m'returns'\u001b[0m\u001b[0;34m]\u001b[0m\u001b[0;34m)\u001b[0m\u001b[0;34m\u001b[0m\u001b[0;34m\u001b[0m\u001b[0m\n\u001b[0m",
            "\u001b[0;31mNameError\u001b[0m: name 'portfolio' is not defined"
          ]
        }
      ]
    },
    {
      "cell_type": "code",
      "metadata": {
        "id": "lSAmUUtiTIhT"
      },
      "source": [
        "#MAIN\n",
        "def Startengine (ticker, start, end, short_lookback_period, long_lookback_period, initial_capital, nbre_shares, returns):\n",
        "    '''\n",
        "    This is a function made for starting the trading process.\n",
        "    Inputs: retruns : ticker, start, end, short_lookback_period, long_lookback_period, initial_capital, nbre_shares, returns\n",
        "    Output: All our results\n",
        "    '''\n",
        "\n",
        "    #Deploiement des fonctions :\n",
        "    Strategy(short_lookback_period,long_lookback_period)\n",
        "    print('-------------------------------------------------------------------------------')\n",
        "\n",
        "    PlotPy(ticker, start, end)\n",
        "    print('-------------------------------------------------------------------------------')\n",
        "\n",
        "    Backtester(initial_capital, nbre_shares)\n",
        "    print('-------------------------------------------------------------------------------')\n",
        "\n",
        "    Eval_perf(returns)"
      ],
      "execution_count": null,
      "outputs": []
    },
    {
      "cell_type": "code",
      "metadata": {
        "colab": {
          "base_uri": "https://localhost:8080/",
          "height": 203
        },
        "id": "OKJ-OMmEVR6T",
        "outputId": "841d1ec1-9669-4169-ac18-4040abd195c4"
      },
      "source": [
        "#Main function\n",
        "Startengine('BTC-USD', '2017-10-01', '2021-01-01', 40,100,10000,100,portfolio['returns'])"
      ],
      "execution_count": null,
      "outputs": [
        {
          "output_type": "error",
          "ename": "NameError",
          "evalue": "ignored",
          "traceback": [
            "\u001b[0;31m---------------------------------------------------------------------------\u001b[0m",
            "\u001b[0;31mNameError\u001b[0m                                 Traceback (most recent call last)",
            "\u001b[0;32m<ipython-input-97-74706cb7171c>\u001b[0m in \u001b[0;36m<module>\u001b[0;34m()\u001b[0m\n\u001b[1;32m      1\u001b[0m \u001b[0;31m#Main function\u001b[0m\u001b[0;34m\u001b[0m\u001b[0;34m\u001b[0m\u001b[0;34m\u001b[0m\u001b[0m\n\u001b[0;32m----> 2\u001b[0;31m \u001b[0mStartengine\u001b[0m\u001b[0;34m(\u001b[0m\u001b[0;34m'BTC-USD'\u001b[0m\u001b[0;34m,\u001b[0m \u001b[0;34m'2017-10-01'\u001b[0m\u001b[0;34m,\u001b[0m \u001b[0;34m'2021-01-01'\u001b[0m\u001b[0;34m,\u001b[0m \u001b[0;36m40\u001b[0m\u001b[0;34m,\u001b[0m\u001b[0;36m100\u001b[0m\u001b[0;34m,\u001b[0m\u001b[0;36m10000\u001b[0m\u001b[0;34m,\u001b[0m\u001b[0;36m100\u001b[0m\u001b[0;34m,\u001b[0m\u001b[0mportfolio\u001b[0m\u001b[0;34m[\u001b[0m\u001b[0;34m'returns'\u001b[0m\u001b[0;34m]\u001b[0m\u001b[0;34m)\u001b[0m\u001b[0;34m\u001b[0m\u001b[0;34m\u001b[0m\u001b[0m\n\u001b[0m",
            "\u001b[0;31mNameError\u001b[0m: name 'portfolio' is not defined"
          ]
        }
      ]
    }
  ]
}